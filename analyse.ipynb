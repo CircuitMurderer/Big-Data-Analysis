{
 "cells": [
  {
   "cell_type": "code",
   "execution_count": null,
   "metadata": {
    "collapsed": true
   },
   "outputs": [],
   "source": [
    "import pandas as pd\n",
    "\n",
    "res_path = './result/'\n",
    "\n",
    "\n",
    "def group_cal(pth: str):\n",
    "    dt = pd.read_csv(res_path + pth)\n",
    "    dt_a = dt.groupby('品牌', as_index=False).mean()\n",
    "    dt_sz = dt.groupby('品牌', as_index=False).size()\n",
    "    return pd.DataFrame(dt_a), pd.DataFrame(dt_sz)\n"
   ]
  },
  {
   "cell_type": "code",
   "execution_count": null,
   "metadata": {
    "collapsed": false,
    "pycharm": {
     "name": "#%%\n"
    }
   },
   "outputs": [],
   "source": [
    "import matplotlib.pyplot as plt\n",
    "\n",
    "plt.rcParams['font.sans-serif'] = ['SimHei']\n",
    "plt.rcParams['font.serif'] = ['SimHei']\n",
    "plt.rcParams['axes.unicode_minus'] = False\n",
    "plt.style.use('ggplot')\n",
    "\n",
    "\n",
    "def draw_favor(dt: pd.DataFrame, pth='./'):\n",
    "    kinds = dt.shape[0]\n",
    "    fig, ax = plt.subplots(figsize=(8, kinds), dpi=120)\n",
    "    dt = dt.sort_values(by='合计好评率', ascending=True)\n",
    "    dt.plot(kind='barh', y=['最近好评率', '历史好评率', '合计好评率'], x='品牌', ax=ax)\n",
    "    fig.suptitle((pth + '价位' if pth != '' else pth) + '不同品牌产品的好评率排名（合计好评率）')\n",
    "    ax.set_xlim([0.6, 1.1])\n",
    "    fig.savefig(res_path + pth + '_favor.png')\n",
    "\n",
    "\n",
    "def draw_buys(dt: pd.DataFrame, pth=''):\n",
    "    fig, ax = plt.subplots(figsize=(4, 4), dpi=100)\n",
    "    dt.plot(kind='pie', y='size', labels=sz['品牌'].tolist(), ax=ax)\n",
    "    fig.suptitle((pth + '价位' if pth != '' else pth) + '销量前10各品牌产品占有率')\n",
    "    ax.legend().set_visible(False)\n",
    "    ax.set(ylabel='')\n",
    "    fig.savefig(res_path + pth + '_buys.png')\n",
    "\n"
   ]
  },
  {
   "cell_type": "code",
   "execution_count": null,
   "metadata": {
    "collapsed": false,
    "pycharm": {
     "name": "#%%\n"
    }
   },
   "outputs": [],
   "source": [
    "import os\n",
    "dirs = os.listdir(res_path)"
   ]
  },
  {
   "cell_type": "code",
   "execution_count": null,
   "metadata": {
    "collapsed": false,
    "pycharm": {
     "name": "#%%\n"
    }
   },
   "outputs": [],
   "source": [
    "dicts = []\n",
    "for fp in dirs:\n",
    "    if not fp.endswith('csv'):\n",
    "        continue\n",
    "    res, sz = group_cal(fp)\n",
    "    res = res.sort_values(by='合计好评率', ascending=False)\n",
    "    # res.reset_index()\n",
    "\n",
    "    now_range = fp.split('.')[0]\n",
    "    draw_favor(res, now_range)\n",
    "    draw_buys(sz, now_range)\n",
    "\n",
    "    dic = dict(zip(res['品牌'], res['合计好评率']))\n",
    "    # dic['range'] = now_range\n",
    "    dicts.append(dic)"
   ]
  },
  {
   "cell_type": "code",
   "execution_count": null,
   "metadata": {
    "collapsed": false,
    "pycharm": {
     "name": "#%%\n"
    }
   },
   "outputs": [],
   "source": [
    "ranges = ['0~2000', '2000~5000', '5000~8000', '8000~15000', 'all']\n",
    "ranges = pd.Series(ranges)\n",
    "\n",
    "dtf = pd.DataFrame.from_dict(dicts)\n",
    "dtf = dtf.set_index(ranges, drop=True)\n",
    "dtf = dtf.drop('all')"
   ]
  },
  {
   "cell_type": "code",
   "execution_count": null,
   "metadata": {
    "collapsed": false,
    "pycharm": {
     "name": "#%%\n"
    }
   },
   "outputs": [],
   "source": [
    "import seaborn as sns\n",
    "\n",
    "plt.figure(figsize=(7, 4), dpi=120)\n",
    "axis = sns.heatmap(dtf, annot=True, fmt='.2f', cmap=\"YlOrRd\", linewidths=0.5, cbar=True)\n",
    "axis.xaxis.tick_top()\n",
    "axis.set_title('不同品牌在各价位的好评率（合计）')\n",
    "plt.savefig(res_path + 'heatmap.png', dpi=120)"
   ]
  },
  {
   "cell_type": "code",
   "execution_count": null,
   "metadata": {
    "collapsed": false,
    "pycharm": {
     "name": "#%%\n"
    }
   },
   "outputs": [],
   "source": [
    "res, _ = group_cal(dirs[12])\n",
    "res = res.sort_values(by='合计好评率', ascending=False)\n",
    "res"
   ]
  }
 ],
 "metadata": {
  "kernelspec": {
   "display_name": "Python 3.8.2 64-bit",
   "metadata": {
    "interpreter": {
     "hash": "31f2aee4e71d21fbe5cf8b01ff0e069b9275f58929596ceb00d14d90e3e16cd6"
    }
   },
   "name": "python3"
  },
  "language_info": {
   "codemirror_mode": {
    "name": "ipython",
    "version": 2
   },
   "file_extension": ".py",
   "mimetype": "text/x-python",
   "name": "python",
   "nbconvert_exporter": "python",
   "pygments_lexer": "ipython2",
   "version": "3.8.2-final"
  }
 },
 "nbformat": 4,
 "nbformat_minor": 0
}